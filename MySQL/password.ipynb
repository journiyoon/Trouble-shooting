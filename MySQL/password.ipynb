{
 "cells": [
  {
   "cell_type": "markdown",
   "metadata": {},
   "source": [
    "# PASSWORD 재설정\n",
    "\n",
    "## 문제 상황\n",
    "mysql password를 분실했다.  \n",
    "password를 재설정하는 방법을 알아보자.  \n",
    "\n",
    "## 해결 방법\n",
    "1. mysqld 중지\n",
    "```shell\n",
    "service mysqld stop\n",
    "```\n",
    "2. mysqld_safe 실행\n",
    "인증 생략 옵션 설정 및 안전 모드로 데몬 실행\n",
    "```shell\n",
    "/usr/bin/mysqld_safe --skip-grant-tables &\n",
    "```\n",
    "**:warning: ERROR**\n",
    "> ERROR 2002 (HY000): Can't connect to local MySQL server through socket '/var/run/mysqld/mysqld.sock' (2)\n",
    "\n",
    "2-1. mysqld_safe unix socket file directory 생성\n",
    "```shell\n",
    "mkdir -p /var/run/mysqld\n",
    "chown mysql:mysql /var/run/mysqld\n",
    "```\n",
    "3. mysql console 진입\n",
    "```shell\n",
    "/usr/bin/mysql -u root mysql\n",
    "```\n",
    "4. mysql password 변경(MySQL 5.7.6 이상)\n",
    "```sql\n",
    "ALTER USER 'root'@'localhost' IDENTIFIED WITH mysql_native_password BY '변경할 패스워드';\n",
    "```\n"
   ]
  }
 ],
 "metadata": {
  "kernelspec": {
   "display_name": "Python 3.10.6 64-bit",
   "language": "python",
   "name": "python3"
  },
  "language_info": {
   "name": "python",
   "version": "3.10.6"
  },
  "orig_nbformat": 4,
  "vscode": {
   "interpreter": {
    "hash": "7e1998ff7f8aa20ada591c520b972326324e5ea05489af9e422744c7c09f6dad"
   }
  }
 },
 "nbformat": 4,
 "nbformat_minor": 2
}
